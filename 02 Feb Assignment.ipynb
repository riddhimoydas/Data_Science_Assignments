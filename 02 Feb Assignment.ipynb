{
 "cells": [
  {
   "cell_type": "code",
   "execution_count": 1,
   "id": "09e4158f-75dc-4209-bd85-d2ae5433759a",
   "metadata": {},
   "outputs": [],
   "source": [
    "# Q1) Explain with an example each when to use a for loop and a while loop"
   ]
  },
  {
   "cell_type": "code",
   "execution_count": 16,
   "id": "78d3ee54-aa9d-4d1b-b3ac-00706c871177",
   "metadata": {},
   "outputs": [
    {
     "name": "stdout",
     "output_type": "stream",
     "text": [
      "pwskills\n",
      "data science\n",
      "javascript full stack\n",
      "java\n"
     ]
    }
   ],
   "source": [
    "#For loop\n",
    "\n",
    "# We use for loop when we know the exact number of times a loop needs to be executed.\n",
    "#For eg: here we want to print al the list elements. We know there are only 4 elements. Hence we use for loops\n",
    "\n",
    "l1 = ['pwskills','data science','javascript full stack','java']\n",
    "for i in l1:\n",
    "    print(i)"
   ]
  },
  {
   "cell_type": "code",
   "execution_count": 19,
   "id": "52e5d83c-0857-4091-b40c-c9244a4733e9",
   "metadata": {},
   "outputs": [
    {
     "name": "stdin",
     "output_type": "stream",
     "text": [
      "Enter a num greater than 1:  120\n"
     ]
    },
    {
     "name": "stdout",
     "output_type": "stream",
     "text": [
      "7\n"
     ]
    }
   ],
   "source": [
    "#While loop\n",
    "\n",
    "#While loop is used when we don't know the exact number of times the loop to be executed. \n",
    "#for eg:- Here we need to divide a number by 2 until the result is less than 1 or 1.\n",
    "#we don't know the exact number of times we need to itertate a loop. ( We do not know the upper limit in this case)\n",
    "\n",
    "num = int(input(\"Enter a num greater than 1: \"))\n",
    "count = 0\n",
    "while num >=1:\n",
    "\tnum = num/2\n",
    "\tcount = count + 1\n",
    "print(count) "
   ]
  },
  {
   "cell_type": "code",
   "execution_count": null,
   "id": "09219270-575a-49af-a4a8-51a994ca2736",
   "metadata": {},
   "outputs": [],
   "source": []
  },
  {
   "cell_type": "code",
   "execution_count": 2,
   "id": "5f5c3d13-7baf-4357-a931-70ae0d150869",
   "metadata": {},
   "outputs": [],
   "source": [
    "# Q2) Write a python program to print the sum and product of the first 10 natural nuumbers using a for loop and while loop"
   ]
  },
  {
   "cell_type": "code",
   "execution_count": 3,
   "id": "1d11aed5-2207-4036-a278-f02a8e87b37a",
   "metadata": {},
   "outputs": [
    {
     "name": "stdout",
     "output_type": "stream",
     "text": [
      "The sum of 1st 10 natural number is  55\n",
      "The product of 1st 10 natural number is  3628800\n"
     ]
    }
   ],
   "source": [
    "#Using for loop\n",
    "\n",
    "num = 0\n",
    "summ = 0\n",
    "num1=1\n",
    "summ1=1\n",
    "for num in range(1,11):\n",
    "    summ = summ + num\n",
    "    num = num +1\n",
    "print(\"The sum of 1st 10 natural number is \",summ)    \n",
    "for num1 in range (1,11):\n",
    "    summ1=summ1*num1\n",
    "    num1=num1+1\n",
    "print(\"The product of 1st 10 natural number is \",summ1)  "
   ]
  },
  {
   "cell_type": "code",
   "execution_count": 4,
   "id": "d9f9fe05-e2bf-4619-9531-992f13c853f8",
   "metadata": {},
   "outputs": [
    {
     "name": "stdout",
     "output_type": "stream",
     "text": [
      "The sum of 1st 10 natural number is  55\n",
      "The product of 1st 10 natural number is  3628800\n"
     ]
    }
   ],
   "source": [
    "#Using for while loop\n",
    "\n",
    "num = 0\n",
    "summ = 0\n",
    "num1=1\n",
    "summ1=1\n",
    "while num<=10:\n",
    "    summ = summ + num\n",
    "    num = num +1\n",
    "print(\"The sum of 1st 10 natural number is \",summ)    \n",
    "while num1<=10:\n",
    "    summ1=summ1*num1\n",
    "    num1=num1+1\n",
    "print(\"The product of 1st 10 natural number is \",summ1)"
   ]
  },
  {
   "cell_type": "raw",
   "id": "e56680c0-9794-47eb-87b6-64beaecaa712",
   "metadata": {},
   "source": []
  },
  {
   "cell_type": "code",
   "execution_count": null,
   "id": "b502eea6-6e76-4456-84c4-4117f08f8a14",
   "metadata": {},
   "outputs": [],
   "source": [
    "# Q3 Create a python program to compute the electricity bill for a household"
   ]
  },
  {
   "cell_type": "code",
   "execution_count": 5,
   "id": "0545d7ec-a6d2-4181-b286-ead066660b63",
   "metadata": {},
   "outputs": [
    {
     "name": "stdin",
     "output_type": "stream",
     "text": [
      "Enter the units 310\n"
     ]
    },
    {
     "name": "stdout",
     "output_type": "stream",
     "text": [
      "2250.0\n"
     ]
    }
   ],
   "source": [
    "unit = int(input(\"Enter the units\"))\n",
    "\n",
    "if unit <= 100:\n",
    "    amt = 4.5*unit\n",
    "elif unit >100 and unit <=200:\n",
    "    amt = (4.5 * 100) + ((unit-100)*6)\n",
    "elif unit >200 and unit <=300:\n",
    "    amt = (4.5 *100) + (100*6) + ((unit-200)*10)\n",
    "else:\n",
    "    amt = (4.5*100) + (100*6) + (100*10) + ((unit-300)*20)   \n",
    "    \n",
    "print(amt)"
   ]
  },
  {
   "cell_type": "code",
   "execution_count": null,
   "id": "3e944c2f-3f32-49d1-9014-f2aacf9d3f8d",
   "metadata": {},
   "outputs": [],
   "source": []
  },
  {
   "cell_type": "code",
   "execution_count": 6,
   "id": "21b1ac25-2b8a-45ee-9a0b-90541d3d505e",
   "metadata": {},
   "outputs": [],
   "source": [
    "# Q4 Create a list of numbers frm 1 to 100. Use for loop and while loop to calculate the cube of each number and if the cube of that number is divisible by 4 or 5, then append that number in a list and print that list."
   ]
  },
  {
   "cell_type": "code",
   "execution_count": 12,
   "id": "acf39253-b969-4979-a7c0-0f1c560f4b48",
   "metadata": {},
   "outputs": [
    {
     "name": "stdout",
     "output_type": "stream",
     "text": [
      "The cube of the numbers are:   [1, 8, 27, 64, 125, 216, 343, 512, 729, 1000, 1331, 1728, 2197, 2744, 3375, 4096, 4913, 5832, 6859, 8000, 9261, 10648, 12167, 13824, 15625, 17576, 19683, 21952, 24389, 27000, 29791, 32768, 35937, 39304, 42875, 46656, 50653, 54872, 59319, 64000, 68921, 74088, 79507, 85184, 91125, 97336, 103823, 110592, 117649, 125000, 132651, 140608, 148877, 157464, 166375, 175616, 185193, 195112, 205379, 216000, 226981, 238328, 250047, 262144, 274625, 287496, 300763, 314432, 328509, 343000, 357911, 373248, 389017, 405224, 421875, 438976, 456533, 474552, 493039, 512000, 531441, 551368, 571787, 592704, 614125, 636056, 658503, 681472, 704969, 729000, 753571, 778688, 804357, 830584, 857375, 884736, 912673, 941192, 970299, 1000000] \n",
      "\n",
      "The numbers which are divivded by 4 or 5 are:    [8, 64, 125, 216, 512, 1000, 1728, 2744, 3375, 4096, 5832, 8000, 10648, 13824, 15625, 17576, 21952, 27000, 32768, 39304, 42875, 46656, 54872, 64000, 74088, 85184, 91125, 97336, 110592, 125000, 140608, 157464, 166375, 175616, 195112, 216000, 238328, 262144, 274625, 287496, 314432, 343000, 373248, 405224, 421875, 438976, 474552, 512000, 551368, 592704, 614125, 636056, 681472, 729000, 778688, 830584, 857375, 884736, 941192, 1000000]\n"
     ]
    }
   ],
   "source": [
    "l1 = list(range(1,101))\n",
    "l2=[]\n",
    "for i in l1:\n",
    "    l2.append(i*i*i)\n",
    "l3=[]\n",
    "for j in l2:\n",
    "    if j%5 == 0 or j%4==0:\n",
    "            l3.append(j)\n",
    "print('The cube of the numbers are:  ', l2, '\\n')\n",
    "print('The numbers which are divivded by 4 or 5 are:   ', l3)"
   ]
  },
  {
   "cell_type": "code",
   "execution_count": null,
   "id": "882432d3-e2d1-41a8-ad8e-a7d4c59dc1c3",
   "metadata": {},
   "outputs": [],
   "source": []
  },
  {
   "cell_type": "code",
   "execution_count": 13,
   "id": "a08f8ee5-3011-4288-8e8f-e02ae0a5af50",
   "metadata": {},
   "outputs": [],
   "source": [
    "# Q5 Write a program to filter count vowels in the below - given string\n",
    "  # string = i want to become a data scientist"
   ]
  },
  {
   "cell_type": "code",
   "execution_count": 15,
   "id": "3a7a65d2-1127-4fd6-9e45-9c43be759936",
   "metadata": {},
   "outputs": [
    {
     "data": {
      "text/plain": [
       "12"
      ]
     },
     "execution_count": 15,
     "metadata": {},
     "output_type": "execute_result"
    }
   ],
   "source": [
    "str1= \"i want to become a data scientist\"\n",
    "count = 0\n",
    "for i in str1:\n",
    "    if (i == 'a' or i =='e' or i=='i' or i=='o' or i=='u'):\n",
    "        count = count+1\n",
    "count "
   ]
  },
  {
   "cell_type": "code",
   "execution_count": null,
   "id": "d99c495e-76f9-4161-9f3f-fa9cdbabbc46",
   "metadata": {},
   "outputs": [],
   "source": []
  }
 ],
 "metadata": {
  "kernelspec": {
   "display_name": "Python 3 (ipykernel)",
   "language": "python",
   "name": "python3"
  },
  "language_info": {
   "codemirror_mode": {
    "name": "ipython",
    "version": 3
   },
   "file_extension": ".py",
   "mimetype": "text/x-python",
   "name": "python",
   "nbconvert_exporter": "python",
   "pygments_lexer": "ipython3",
   "version": "3.10.8"
  }
 },
 "nbformat": 4,
 "nbformat_minor": 5
}
