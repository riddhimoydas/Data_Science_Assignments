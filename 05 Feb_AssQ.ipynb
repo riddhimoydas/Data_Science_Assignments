{
 "cells": [
  {
   "cell_type": "code",
   "execution_count": 1,
   "id": "c1a67bf9-e1f5-4b6b-974d-10f5d9beb43e",
   "metadata": {},
   "outputs": [],
   "source": [
    "# Q1 Explain class and object with respect to object oriented programming. Give suitable example."
   ]
  },
  {
   "cell_type": "code",
   "execution_count": 3,
   "id": "96fafe3f-d7a1-464a-b3a0-5ab9c93cb7ba",
   "metadata": {},
   "outputs": [],
   "source": [
    "# Ans 1\n",
    "\n",
    "# Class:  A class is a blueprint or a template to build a specific type of objects, and initialising the objects. \n",
    "# eg:- A car, is class. We have different brands of car like audi, bmw etc, but all these card have same blueprint,\n",
    "#      like all cars have engines, steering, tyres, wheels etc. All these features are grouped under the same blueprint\n",
    "#      called Class Car\n",
    "\n",
    "\n",
    "\n",
    "# Objects:- Objects are the instance of class. Tese are mapped after the real world entities. It is used to access the \n",
    "#           rea world entities. \n",
    "\n",
    "# eg:- in the above example the  engines, steering, tyres, wheels etc, are the objects of the class CAR.\n",
    "\n"
   ]
  },
  {
   "cell_type": "code",
   "execution_count": null,
   "id": "ec53cef2-747d-475b-a42a-099bd9c76f57",
   "metadata": {},
   "outputs": [],
   "source": []
  },
  {
   "cell_type": "code",
   "execution_count": 1,
   "id": "b1003f83-3788-4fa1-8ada-1618e2309849",
   "metadata": {},
   "outputs": [],
   "source": [
    "# Q2 Name are the four pillars of OOPS?"
   ]
  },
  {
   "cell_type": "code",
   "execution_count": 2,
   "id": "4511fa51-dd02-4c91-8346-8c5f61bcebb0",
   "metadata": {},
   "outputs": [],
   "source": [
    "# Ans\n",
    "\n",
    "# The four pillars of OOPS are:-\n",
    "\n",
    "# Inheritance, Polymorphism, Abstraction, Encapsulation."
   ]
  },
  {
   "cell_type": "code",
   "execution_count": null,
   "id": "13ec835a-89a3-42b9-86f7-9e1ff9ede1df",
   "metadata": {},
   "outputs": [],
   "source": []
  },
  {
   "cell_type": "code",
   "execution_count": 3,
   "id": "d602fede-18e9-4f07-9d7d-d90b2d2807c5",
   "metadata": {},
   "outputs": [],
   "source": [
    "# Q3 Why the __init__() function is used? Give a suitable example."
   ]
  },
  {
   "cell_type": "code",
   "execution_count": 29,
   "id": "125ef320-6c9b-4785-a10a-5303f3c09ade",
   "metadata": {},
   "outputs": [
    {
     "name": "stdout",
     "output_type": "stream",
     "text": [
      "24\n",
      "361077\n",
      "[24, 361077]\n"
     ]
    }
   ],
   "source": [
    "#__init__() function is a constructor. It is used to pass data in class/ to initialise the objects of the class.\n",
    "#  \n",
    "\n",
    "#  ex:\n",
    "\n",
    "class pwskills:\n",
    "    def __init__(self, age, reg):\n",
    "        self.age = age\n",
    "        self.reg =reg\n",
    "        \n",
    "    def return_values(self):\n",
    "        return self.age, self.reg\n",
    "    \n",
    "    def welcome_msg(self):\n",
    "        print(\"Welcome to PWSKILLS\")\n",
    "        \n",
    "rohan = pwskills(24, 361077)\n",
    "print(rohan.age)\n",
    "print(rohan.reg)\n",
    "# print(rohan.welcome_msg())\n",
    "print(list(rohan.return_values()))\n",
    "# here init function is used to pass the age and reg value of rohan."
   ]
  },
  {
   "cell_type": "code",
   "execution_count": null,
   "id": "5dfcb12a-5d62-4a92-92ff-c613051b19e6",
   "metadata": {},
   "outputs": [],
   "source": []
  },
  {
   "cell_type": "code",
   "execution_count": null,
   "id": "20c6346c-f012-4793-bccf-86ad6fad3713",
   "metadata": {},
   "outputs": [],
   "source": [
    "# Q4 Why self is used in oops?"
   ]
  },
  {
   "cell_type": "code",
   "execution_count": 30,
   "id": "7ff5b3d1-d641-46c9-9161-4fdfbc7112fe",
   "metadata": {},
   "outputs": [],
   "source": [
    "# Ans\n",
    "\n",
    "# Self is a pointer which is  used to bind the variables to the class. It tells the class that these variables are of\n",
    "# the same class.  Self is not a reserved keyword, we can use any other name for it. But in oops we need a pointer\n",
    "# which binds the variables to theclass."
   ]
  },
  {
   "cell_type": "code",
   "execution_count": null,
   "id": "72a39564-9b79-4cbd-ba8a-e08886d4ef42",
   "metadata": {},
   "outputs": [],
   "source": []
  },
  {
   "cell_type": "code",
   "execution_count": 23,
   "id": "351e55cd-140a-42d1-a766-e5eb56d270cf",
   "metadata": {},
   "outputs": [],
   "source": [
    "# Q5 What is inheritance? Give an example of each type of inheritance?"
   ]
  },
  {
   "cell_type": "code",
   "execution_count": 28,
   "id": "c2b4d13e-9f89-4384-b0e0-ee3ea3714747",
   "metadata": {},
   "outputs": [],
   "source": [
    "# Inheritance is the property in which the methods and variables of the one class can be inherited/extended to another \n",
    "# This new class can have its own methods and variables too.\n",
    "#  It is similar to real life inheritance in which the property of parents gets transfered to the its offspring.\n",
    "\n",
    "#  There are  types of inheritance:\n",
    "\n",
    "# Single inheritance: Here single child class inherits the variable and methods of single parent class.\n",
    "# Multiple Inheritance:- Here single child inherits the variables and methods of two or more parent class.\n",
    "# Multilevel Inheritance:- In this type of inheritance, the parent class inherits the variables and methos from its \n",
    "#                          parent class( granparent class), and those methods and variables are further inherited to its\n",
    "#                          child class ( gradchild class of the grandparent class or child class of the parent class)\n",
    "# Hierarchical Inheritance: Here the variables and methods of parent class gets inherited into multiple child class.\n",
    "# Hybrid Inheritance:-  Here more than one type of inheritance is implemented."
   ]
  },
  {
   "cell_type": "code",
   "execution_count": null,
   "id": "ad06bac6-44f5-4b63-b4b0-73e7ecf0feaa",
   "metadata": {},
   "outputs": [],
   "source": []
  }
 ],
 "metadata": {
  "kernelspec": {
   "display_name": "Python 3 (ipykernel)",
   "language": "python",
   "name": "python3"
  },
  "language_info": {
   "codemirror_mode": {
    "name": "ipython",
    "version": 3
   },
   "file_extension": ".py",
   "mimetype": "text/x-python",
   "name": "python",
   "nbconvert_exporter": "python",
   "pygments_lexer": "ipython3",
   "version": "3.10.8"
  }
 },
 "nbformat": 4,
 "nbformat_minor": 5
}
