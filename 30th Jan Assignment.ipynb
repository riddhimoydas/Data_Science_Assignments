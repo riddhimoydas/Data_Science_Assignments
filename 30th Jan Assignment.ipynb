{
 "cells": [
  {
   "cell_type": "code",
   "execution_count": 2,
   "id": "5e06f74c-7a13-46b1-a71c-8bc19f3c0aab",
   "metadata": {},
   "outputs": [],
   "source": [
    "# Q1 Write a program to accept a percentage from user and display the grade according to the following criteria..."
   ]
  },
  {
   "cell_type": "code",
   "execution_count": 3,
   "id": "afb1ae55-9de3-4dc6-93b0-843aa9a769c1",
   "metadata": {},
   "outputs": [
    {
     "name": "stdin",
     "output_type": "stream",
     "text": [
      "Enter your MARKS 87\n"
     ]
    },
    {
     "name": "stdout",
     "output_type": "stream",
     "text": [
      "Your Grade is 'B'\n"
     ]
    }
   ],
   "source": [
    "marks = int(input(\"Enter your MARKS\"))\n",
    "if marks > 90:\n",
    "    print(\"Your Grade is 'A'\")\n",
    "elif marks > 80 and marks <=90:\n",
    "    print(\"Your Grade is 'B'\")\n",
    "elif marks >= 60 and marks <=80:\n",
    "    print(\"Your Grade is 'C'\")\n",
    "else:\n",
    "    print(\"Your Grade is 'D'\")"
   ]
  },
  {
   "cell_type": "code",
   "execution_count": null,
   "id": "6eb2f4d1-6cee-4044-8263-259ba483fc9d",
   "metadata": {},
   "outputs": [],
   "source": []
  },
  {
   "cell_type": "code",
   "execution_count": 4,
   "id": "9050ecf0-c43e-4ff9-a5c8-7e00e15a3e3b",
   "metadata": {},
   "outputs": [],
   "source": [
    "# Q2 Write a program to accept the cost price of the bike and display the road tax to be paid according to the following criteria:...."
   ]
  },
  {
   "cell_type": "code",
   "execution_count": 5,
   "id": "7ea659b0-eb7f-41d3-9cd1-5e936a9dbafe",
   "metadata": {},
   "outputs": [
    {
     "name": "stdin",
     "output_type": "stream",
     "text": [
      "Enter the cost price of the bike 80000\n"
     ]
    },
    {
     "name": "stdout",
     "output_type": "stream",
     "text": [
      "The road tax to be paid is 10%\n"
     ]
    }
   ],
   "source": [
    "cp = int(input(\"Enter the cost price of the bike\"))\n",
    "if cp > 100000:\n",
    "    print(\"The road tax to be paid is 15%\")\n",
    "elif cp >50000 and cp <= 100000:\n",
    "    print(\"The road tax to be paid is 10%\")\n",
    "else:\n",
    "    print(\"The road tax to be paid is 5%\")"
   ]
  },
  {
   "cell_type": "code",
   "execution_count": null,
   "id": "16972175-aa6b-43a6-8b31-67db7c1207d5",
   "metadata": {},
   "outputs": [],
   "source": []
  },
  {
   "cell_type": "code",
   "execution_count": 1,
   "id": "271ecaab-c5e9-4958-b762-a8eb8b2d61fa",
   "metadata": {},
   "outputs": [],
   "source": [
    "# Q3 Accept any city from the user and display the monuments of the city"
   ]
  },
  {
   "cell_type": "code",
   "execution_count": 2,
   "id": "9ff01a0a-81db-41ba-94d4-bd773246d93e",
   "metadata": {},
   "outputs": [
    {
     "name": "stdin",
     "output_type": "stream",
     "text": [
      "Enter the city Agra\n"
     ]
    },
    {
     "name": "stdout",
     "output_type": "stream",
     "text": [
      "Taj Mahal\n"
     ]
    }
   ],
   "source": [
    "c = input(\"Enter the city\")\n",
    "if c == 'Delhi':\n",
    "    print(\"Red Fort\")\n",
    "elif c == 'Agra':\n",
    "    print(\"Taj Mahal\")\n",
    "elif c == 'Jaipur':\n",
    "    print(\"Jal Mahal\")\n",
    "else:\n",
    "    print(\"Please enter a valid ciy\")"
   ]
  },
  {
   "cell_type": "code",
   "execution_count": null,
   "id": "31a1d6a2-4235-45f0-b71b-706f12e24497",
   "metadata": {},
   "outputs": [],
   "source": []
  },
  {
   "cell_type": "code",
   "execution_count": 3,
   "id": "a12af2a9-9f33-4cdd-8153-a6661e861b88",
   "metadata": {},
   "outputs": [],
   "source": [
    "# Q4 Check how many times a given number can be divided by 3 before it is less than or equal to 10"
   ]
  },
  {
   "cell_type": "code",
   "execution_count": 6,
   "id": "f84b6e4e-5ce0-4a55-8df7-c3bd1f1fd55d",
   "metadata": {},
   "outputs": [
    {
     "name": "stdin",
     "output_type": "stream",
     "text": [
      "Enter a number\n",
      " 48\n"
     ]
    },
    {
     "name": "stdout",
     "output_type": "stream",
     "text": [
      "The number 48 can be divisibe by 3, 2 times, before the result is 10 or less than 10\n"
     ]
    }
   ],
   "source": [
    "num = int(input(\"Enter a number\\n\"))\n",
    "num1 = num;\n",
    "q = 0\n",
    "while num1>=10:\n",
    "    num1=num1/3\n",
    "    q = q+1\n",
    "print(\"The number\", +num,\"can be divisibe by 3,\", q, \"times, before the result is 10 or less than 10\")"
   ]
  },
  {
   "cell_type": "code",
   "execution_count": null,
   "id": "7b5493fb-aa38-4e5a-bf0f-847eede05f89",
   "metadata": {},
   "outputs": [],
   "source": []
  },
  {
   "cell_type": "code",
   "execution_count": 7,
   "id": "26bb3d89-9b90-4715-9ccc-6a8f146b4314",
   "metadata": {},
   "outputs": [],
   "source": [
    "# Q5 Why and when to use a while loop, give a detailed description with example"
   ]
  },
  {
   "cell_type": "code",
   "execution_count": 8,
   "id": "448d9737-5c56-4237-9b6a-6eb48e8c3d03",
   "metadata": {},
   "outputs": [],
   "source": [
    "# While loop is used when we don't know the exact number of times the loop to be executed. \n",
    "# It continues to execute the loop untill the specified condition is true. \n",
    "# When the condition is false it comes out of the loop.\n",
    "\n",
    "# For eg,\n",
    "# we need to divide a number by 2 until the result is less than 1 or 1.\n",
    "\n",
    "# Here we don't know the exact number of times we need to itertate a loop. ( We do not know the upper limit in this case)\n",
    "\n",
    "# num = int(input(\"Enter a num greater than 1\"))\n",
    "# count = 0\n",
    "# while num >=1:\n",
    "# \tnum = num/2\n",
    "# \tcount = count + 1\n",
    "# print(count) "
   ]
  },
  {
   "cell_type": "code",
   "execution_count": null,
   "id": "fb3b091c-f5a3-4b72-9e97-c4f196da5bbb",
   "metadata": {},
   "outputs": [],
   "source": []
  },
  {
   "cell_type": "code",
   "execution_count": 9,
   "id": "8c329ffe-747b-4657-925a-457d5f7bdb36",
   "metadata": {},
   "outputs": [],
   "source": [
    "# Q6 Use a nested while loops to print 3 different patterns"
   ]
  },
  {
   "cell_type": "code",
   "execution_count": 10,
   "id": "5855be7b-c754-49ba-8221-2191242bce3f",
   "metadata": {},
   "outputs": [
    {
     "name": "stdout",
     "output_type": "stream",
     "text": [
      "* \n",
      "* * \n",
      "* * * \n",
      "* * * * \n",
      "* * * * * \n"
     ]
    }
   ],
   "source": [
    "# pattern 1\n",
    "\n",
    "num = 5\n",
    "i = 1\n",
    "while i<=num:\n",
    "    j = 1\n",
    "    while j <= i:\n",
    "        print(\"*\", end = \" \")\n",
    "        j =j+ 1\n",
    "    print()\n",
    "    i =i+ 1"
   ]
  },
  {
   "cell_type": "code",
   "execution_count": 11,
   "id": "259685e4-7cec-4ae2-a05f-69bca892c7bf",
   "metadata": {},
   "outputs": [
    {
     "name": "stdout",
     "output_type": "stream",
     "text": [
      "* * * * * \n",
      "* * * * \n",
      "* * * \n",
      "* * \n",
      "* \n"
     ]
    }
   ],
   "source": [
    "# pattern 2\n",
    "\n",
    "num = 5\n",
    " \n",
    "i = 1\n",
    "while i <= num :\n",
    "    j = num\n",
    "    while j >= i:\n",
    "        print(\"*\", end = \" \")\n",
    "        j =j-1\n",
    "    print()\n",
    "    i =i+1"
   ]
  },
  {
   "cell_type": "code",
   "execution_count": 12,
   "id": "f8d1c27d-cb57-4373-a52e-207fd587e8cc",
   "metadata": {},
   "outputs": [
    {
     "name": "stdout",
     "output_type": "stream",
     "text": [
      "1 \n",
      "1 2 \n",
      "1 2 3 \n",
      "1 2 3 4 \n",
      "1 2 3 4 5 \n"
     ]
    }
   ],
   "source": [
    "# pattern 3\n",
    "\n",
    "i=1\n",
    "while i<=5:\n",
    "    j=1\n",
    "    while j<=i:\n",
    "        print(j,end=\" \")\n",
    "        j=j+1\n",
    "    print(\"\")\n",
    "    i=i+1"
   ]
  },
  {
   "cell_type": "code",
   "execution_count": null,
   "id": "4818e854-4d67-4612-a82d-2d95a7c9582c",
   "metadata": {},
   "outputs": [],
   "source": []
  },
  {
   "cell_type": "code",
   "execution_count": 13,
   "id": "f3ce932c-1a7e-40ec-97dc-87bc503e65f4",
   "metadata": {},
   "outputs": [],
   "source": [
    "# Q7 Reverse a while loop to display numbers to 10 to 1"
   ]
  },
  {
   "cell_type": "code",
   "execution_count": null,
   "id": "42e14932-9fc7-4230-805b-2920eb5783f1",
   "metadata": {},
   "outputs": [],
   "source": []
  }
 ],
 "metadata": {
  "kernelspec": {
   "display_name": "Python 3 (ipykernel)",
   "language": "python",
   "name": "python3"
  },
  "language_info": {
   "codemirror_mode": {
    "name": "ipython",
    "version": 3
   },
   "file_extension": ".py",
   "mimetype": "text/x-python",
   "name": "python",
   "nbconvert_exporter": "python",
   "pygments_lexer": "ipython3",
   "version": "3.10.8"
  }
 },
 "nbformat": 4,
 "nbformat_minor": 5
}
