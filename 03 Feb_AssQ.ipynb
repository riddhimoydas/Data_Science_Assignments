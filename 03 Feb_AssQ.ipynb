{
 "cells": [
  {
   "cell_type": "code",
   "execution_count": 1,
   "id": "4a21f698-92d6-4440-9073-63bc1547d604",
   "metadata": {},
   "outputs": [],
   "source": [
    "#Q1 Which keyword is used to create a function? Create a function to return a list of odd numbers in the range of 1 to 25"
   ]
  },
  {
   "cell_type": "code",
   "execution_count": 2,
   "id": "2ef65ab3-aac7-4199-8023-e98a2526d5e1",
   "metadata": {},
   "outputs": [],
   "source": [
    "#ans\n",
    "\n",
    "# 'def' keyword is used to create a new user defined function\n",
    "# Syntax : def <function name> :"
   ]
  },
  {
   "cell_type": "code",
   "execution_count": 3,
   "id": "032b5262-089b-48c1-84af-d189313f9c21",
   "metadata": {},
   "outputs": [],
   "source": [
    "# Code to return a list of odd numbers using a function"
   ]
  },
  {
   "cell_type": "code",
   "execution_count": 4,
   "id": "17bfc027-eb1c-471c-b676-4c1b180faa99",
   "metadata": {},
   "outputs": [
    {
     "name": "stdout",
     "output_type": "stream",
     "text": [
      "[1, 3, 5, 7, 9, 11, 13, 15, 17, 19, 21, 23]\n"
     ]
    }
   ],
   "source": [
    "#Creating the function\n",
    "def odd_numbers(n): \n",
    "    l =[]\n",
    "    for i in range(n): \n",
    "        if i%2 != 0:\n",
    "            l.append(i)\n",
    "    return l\n",
    "#calling the function\n",
    "l1= odd_numbers(25)\n",
    "print(l1)"
   ]
  },
  {
   "cell_type": "code",
   "execution_count": null,
   "id": "395363b5-3d23-4796-83b4-a322145db7e9",
   "metadata": {},
   "outputs": [],
   "source": [
    "# Q2 Why *args and **kwargs are used in some functions? Creat a function each for *args and **kwargs to demonstrate their use."
   ]
  },
  {
   "cell_type": "code",
   "execution_count": 5,
   "id": "95df28d5-2230-440f-a81f-61cb23c3748b",
   "metadata": {},
   "outputs": [],
   "source": [
    "# A) *Args is used when we want to pass a number of arguments in to the function, without defining them earlier. It is\n",
    "  # It is  usefull when we do ot know how many arguments shoukd be there in the fuction.\n",
    "    #Generally we use *args but we can use any keyword preceded by *. eg *keyword, *abc, etc\n",
    "#     it ca also pass 0 arguments"
   ]
  },
  {
   "cell_type": "code",
   "execution_count": 6,
   "id": "bdc5a21e-42b9-47ba-ba96-6b64df1ae601",
   "metadata": {},
   "outputs": [
    {
     "name": "stdout",
     "output_type": "stream",
     "text": [
      "potato\n",
      "tomato\n",
      "beet\n"
     ]
    }
   ],
   "source": [
    "# eg\n",
    "\n",
    "def veg(*args):\n",
    "    for i in args:\n",
    "        print(i)\n",
    "        \n",
    "veg(\"potato\", \"tomato\", \"beet\")         "
   ]
  },
  {
   "cell_type": "code",
   "execution_count": 7,
   "id": "c2589d73-b8e0-4426-9817-f2aa476edb8d",
   "metadata": {},
   "outputs": [],
   "source": [
    "# **kwargs is used to pass keyworded arguments. It is similar to that of dictionary.\n",
    "# It maps each keyword to the value that we pass alongside it.\n",
    "# That is why when we iterate over the kwargs there doesn’t seem to be any order in which they were printed out."
   ]
  },
  {
   "cell_type": "code",
   "execution_count": 17,
   "id": "cf3cbef1-4bb9-4700-82d9-d24606ac18e0",
   "metadata": {},
   "outputs": [
    {
     "name": "stdout",
     "output_type": "stream",
     "text": [
      "Hello\n",
      "Post Manager\n",
      "Name Santosh\n",
      "Team CIS\n",
      "Age 40\n"
     ]
    }
   ],
   "source": [
    "# eg\n",
    "\n",
    "def emp(vari, **kwargs):\n",
    "    print(vari)\n",
    "    for key, value in kwargs.items():\n",
    "        print (key, value)\n",
    "        \n",
    "emp('Hello',Post='Manager', Name='Santosh', Team='CIS', Age=40)        \n",
    "\n"
   ]
  },
  {
   "cell_type": "code",
   "execution_count": null,
   "id": "e93ceff9-9244-4972-a7ec-52d312e46aba",
   "metadata": {},
   "outputs": [],
   "source": []
  },
  {
   "cell_type": "code",
   "execution_count": 18,
   "id": "e849bb35-b411-413b-8856-70b170137056",
   "metadata": {},
   "outputs": [],
   "source": [
    "# Q3 What is an itertor in python? Name the method used to initialise the iterator object and the \n",
    "# method used for iterartion.Use these methods to print first five elements of the given list [2,4,6,10,12,14,16,18,20]"
   ]
  },
  {
   "cell_type": "code",
   "execution_count": 19,
   "id": "dad7b48c-e138-4eb3-aeba-82ab711664dd",
   "metadata": {},
   "outputs": [],
   "source": [
    "# A) The iterator is a type of object which enables user to loop over and over through collection of data like list, tuples, dictionaries.\n",
    "# To initiliase the the iterator object we use iter()\n",
    "# We use next() for iteration."
   ]
  },
  {
   "cell_type": "code",
   "execution_count": 25,
   "id": "b8d06797-f5a2-4f59-a63c-c2ac312b876c",
   "metadata": {},
   "outputs": [
    {
     "name": "stdout",
     "output_type": "stream",
     "text": [
      "2\n",
      "4\n",
      "6\n",
      "8\n",
      "10\n"
     ]
    }
   ],
   "source": [
    "l = [2,4,6,8,10,12,14,16,18,20]\n",
    "iterate = iter(l)\n",
    "for i in range (0,5):\n",
    "    print(next(iterate))"
   ]
  },
  {
   "cell_type": "code",
   "execution_count": null,
   "id": "df19690b-e274-418e-8868-abc9f73e4e19",
   "metadata": {},
   "outputs": [],
   "source": []
  },
  {
   "cell_type": "code",
   "execution_count": 26,
   "id": "1c1a57de-4783-4fec-ac22-becf32c6a435",
   "metadata": {},
   "outputs": [],
   "source": [
    "# What is a generator function in python? Why yield keyword  is used? Give an example of generator function. "
   ]
  },
  {
   "cell_type": "code",
   "execution_count": 29,
   "id": "2ce43289-a4fd-4c5b-a6a9-1f458c2c91fb",
   "metadata": {},
   "outputs": [
    {
     "name": "stdout",
     "output_type": "stream",
     "text": [
      "0\n",
      "1\n",
      "2\n"
     ]
    }
   ],
   "source": [
    "#Ans) The generator function is a special type of functions that generates values on the fly/runtime. Unlike list it\n",
    "# does not store the values. However it stores the info on how to generate values in the runtime. It is more memory\n",
    "# efficient. To run generator func , we have to use next() method.\n",
    "\n",
    "# The yield keyword returns a value from the generator and stops the execution of the generator function.\n",
    "\n",
    "\n",
    "# eg\n",
    "\n",
    "def my_gen():\n",
    "    for i in range(500):\n",
    "        yield i\n",
    "        \n",
    "gen = my_gen()\n",
    "for i in range(3):\n",
    "    print(next(gen))\n",
    "    "
   ]
  },
  {
   "cell_type": "code",
   "execution_count": null,
   "id": "ebef2ef8-f8b5-45de-9c05-0b068158c538",
   "metadata": {},
   "outputs": [],
   "source": []
  },
  {
   "cell_type": "code",
   "execution_count": 30,
   "id": "7a698ad0-922b-44ec-86d9-d51fdbaae55a",
   "metadata": {},
   "outputs": [],
   "source": [
    "# Q5) Create a generator function for primme numbers less than 1000. Use next() method to print \n",
    "# first 20 prime numbers."
   ]
  },
  {
   "cell_type": "code",
   "execution_count": 38,
   "id": "b47a26eb-759e-4228-a479-139c8fed1b14",
   "metadata": {},
   "outputs": [
    {
     "name": "stdout",
     "output_type": "stream",
     "text": [
      "3\n",
      "5\n",
      "7\n",
      "11\n",
      "13\n",
      "17\n",
      "19\n",
      "23\n",
      "29\n",
      "31\n",
      "37\n",
      "41\n",
      "43\n",
      "47\n",
      "53\n",
      "59\n",
      "61\n",
      "67\n",
      "71\n",
      "73\n"
     ]
    }
   ],
   "source": [
    "def my_gen():\n",
    "    for i in range(1001):\n",
    "        if i > 2:\n",
    "            for j in range (2, i):\n",
    "                if (i%j==0):\n",
    "                    break\n",
    "            else:\n",
    "                yield i\n",
    "            \n",
    "        \n",
    "            \n",
    "gen = my_gen()\n",
    "for i in range(20):\n",
    "    print(next(gen))            "
   ]
  },
  {
   "cell_type": "code",
   "execution_count": null,
   "id": "c2108e80-5b9b-4d76-a356-082b24ef01bc",
   "metadata": {},
   "outputs": [],
   "source": []
  },
  {
   "cell_type": "code",
   "execution_count": 39,
   "id": "aad3cada-0f5b-4f67-95b0-bd360fc6c4c9",
   "metadata": {},
   "outputs": [],
   "source": [
    "# Q6) Write a python program to print the first 10 fibonacci numbers using while loop"
   ]
  },
  {
   "cell_type": "code",
   "execution_count": 57,
   "id": "6cdd1acf-d866-4867-a9ed-382b379cbb71",
   "metadata": {},
   "outputs": [
    {
     "name": "stdout",
     "output_type": "stream",
     "text": [
      "0\n",
      "1\n",
      "1\n",
      "2\n",
      "3\n",
      "5\n",
      "8\n",
      "13\n",
      "21\n",
      "34\n"
     ]
    }
   ],
   "source": [
    "def fibonacci(n1):\n",
    "    n= n1-2\n",
    "    num = 0\n",
    "    num1 = 1\n",
    "    m=1\n",
    "    print (num) \n",
    "    print (num1)\n",
    "    while m<=n:\n",
    "        summ = num + num1\n",
    "        num=num1\n",
    "        num1=summ\n",
    "        print(summ)\n",
    "        m = m+1\n",
    "\n",
    "fibonacci(10)        "
   ]
  },
  {
   "cell_type": "code",
   "execution_count": null,
   "id": "1b7a4d2b-f78a-4630-ab85-da36b11130b3",
   "metadata": {},
   "outputs": [],
   "source": []
  },
  {
   "cell_type": "code",
   "execution_count": null,
   "id": "7806dc4c-eb93-4ea5-905d-93bcef4d3707",
   "metadata": {},
   "outputs": [],
   "source": [
    "# Q7) Write a list comprehension to iterate through the given string : \"pwskills\""
   ]
  },
  {
   "cell_type": "code",
   "execution_count": 60,
   "id": "aa8033a3-a3f6-4711-ab7a-2fca066164c9",
   "metadata": {},
   "outputs": [],
   "source": [
    "l1 = 'pwskills'\n",
    "l2= [i for i in l1]"
   ]
  },
  {
   "cell_type": "code",
   "execution_count": null,
   "id": "469fb84c-5124-48e1-a735-c4a831adedae",
   "metadata": {},
   "outputs": [],
   "source": []
  },
  {
   "cell_type": "code",
   "execution_count": 1,
   "id": "26ebd440-2e1c-4704-bd69-d3f3a2c47a9d",
   "metadata": {},
   "outputs": [],
   "source": [
    "# Q8) Write a python program to check whether a given number is palindrome or not, using  a while loop"
   ]
  },
  {
   "cell_type": "code",
   "execution_count": 14,
   "id": "3a53d10a-8cae-429c-a51f-9332294be104",
   "metadata": {},
   "outputs": [
    {
     "name": "stdout",
     "output_type": "stream",
     "text": [
      "101\n",
      "The number 101 is palindrome\n"
     ]
    }
   ],
   "source": [
    "def pal(n):    \n",
    "    temp = n\n",
    "    rev = 0\n",
    "    while n>0:\n",
    "        digit = n%10\n",
    "        rev = ((rev*10) + digit)\n",
    "        n = n//10\n",
    "    print(rev)    \n",
    "    if rev == temp:\n",
    "        print('The number {0} is palindrome'.format(temp))\n",
    "    else:\n",
    "         print('The number {0} is not palindrome'.format(temp))\n",
    "               \n",
    "pal(101)"
   ]
  },
  {
   "cell_type": "code",
   "execution_count": null,
   "id": "dd2ce3cd-def3-415b-a6a3-c659c8fa4f6b",
   "metadata": {},
   "outputs": [],
   "source": []
  },
  {
   "cell_type": "code",
   "execution_count": 15,
   "id": "2be6fdd6-1c3c-423d-846b-35f0e27cda01",
   "metadata": {},
   "outputs": [],
   "source": [
    "# Q9 Write a code to print odd numbers from 1 to 100 using list comprehension."
   ]
  },
  {
   "cell_type": "code",
   "execution_count": 28,
   "id": "27e29ae8-8f62-4ab9-be51-7400348f4980",
   "metadata": {},
   "outputs": [
    {
     "name": "stdout",
     "output_type": "stream",
     "text": [
      "[1, 3, 5, 7, 9, 11, 13, 15, 17, 19, 21, 23, 25, 27, 29, 31, 33, 35, 37, 39, 41, 43, 45, 47, 49, 51, 53, 55, 57, 59, 61, 63, 65, 67, 69, 71, 73, 75, 77, 79, 81, 83, 85, 87, 89, 91, 93, 95, 97, 99]\n"
     ]
    }
   ],
   "source": [
    "# ANS\n",
    "l = [i for i in range(101) if (i%2)!= 0]\n",
    "print(l)"
   ]
  },
  {
   "cell_type": "code",
   "execution_count": null,
   "id": "80c4e69a-0bcb-4776-b54d-6df5b4d95bb8",
   "metadata": {},
   "outputs": [],
   "source": []
  }
 ],
 "metadata": {
  "kernelspec": {
   "display_name": "Python 3 (ipykernel)",
   "language": "python",
   "name": "python3"
  },
  "language_info": {
   "codemirror_mode": {
    "name": "ipython",
    "version": 3
   },
   "file_extension": ".py",
   "mimetype": "text/x-python",
   "name": "python",
   "nbconvert_exporter": "python",
   "pygments_lexer": "ipython3",
   "version": "3.10.8"
  }
 },
 "nbformat": 4,
 "nbformat_minor": 5
}
