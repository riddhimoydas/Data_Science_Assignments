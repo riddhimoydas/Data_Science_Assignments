{
 "cells": [
  {
   "cell_type": "code",
   "execution_count": 1,
   "id": "958a1039-c475-4af2-87b5-e044daffba72",
   "metadata": {},
   "outputs": [],
   "source": [
    "#Q1) What is  abstraction is OOPS?"
   ]
  },
  {
   "cell_type": "code",
   "execution_count": 5,
   "id": "7d3bb1be-a52c-4962-9d67-d98d84c7feb9",
   "metadata": {},
   "outputs": [],
   "source": [
    "# Ans) \n",
    "# Abstraction is one of the pillar in OOPS programming. It use to to create a skeleton of some class. In Abstract \n",
    "# method we could give our own defination to the abstract method. To acheiev abstract we use abc module and abc.abstractmethod\n",
    "# decorators."
   ]
  },
  {
   "cell_type": "code",
   "execution_count": null,
   "id": "ff0647fc-b85d-4a4c-a4be-b5fffcbcfd0f",
   "metadata": {},
   "outputs": [],
   "source": []
  },
  {
   "cell_type": "code",
   "execution_count": 7,
   "id": "5df86d40-d4f7-4b62-be73-e5625765a610",
   "metadata": {},
   "outputs": [],
   "source": [
    "# Q2 Differentiate between Abstraction  and Encapsulations, with examples."
   ]
  },
  {
   "cell_type": "code",
   "execution_count": 9,
   "id": "f0916760-aeea-45d1-ad31-d33e336076ed",
   "metadata": {},
   "outputs": [],
   "source": [
    "# Ans\n",
    "\n",
    "#Abstraction  used to create a skeleton of some class. In Abstract method we could give our own defination to the \n",
    "# abstract method. To acheiev abstract we use abc module and abc.abstractmethod decorators."
   ]
  },
  {
   "cell_type": "code",
   "execution_count": 11,
   "id": "93d8587f-2466-4441-a83d-137e58c8a40f",
   "metadata": {},
   "outputs": [
    {
     "data": {
      "text/plain": [
       "'Returning student name'"
      ]
     },
     "execution_count": 11,
     "metadata": {},
     "output_type": "execute_result"
    }
   ],
   "source": [
    "# eg\n",
    "\n",
    "import abc\n",
    "class pwskills:\n",
    "    @abc.abstractmethod\n",
    "    def student_name(self):\n",
    "        pass\n",
    "    \n",
    "class details(pwskills):\n",
    "    def student_name(self):\n",
    "        return \"Returning student name\"\n",
    "obj1 = details()\n",
    "obj1.student_name()"
   ]
  },
  {
   "cell_type": "code",
   "execution_count": 13,
   "id": "231ebdd9-4c57-45b3-9c2d-288d6e138140",
   "metadata": {},
   "outputs": [],
   "source": [
    "# Encapsuloation means to hide the complex details and show only the relevant details. \n",
    "# Programmer can give access to user for certain hidden details also.\n",
    "# Double under score is used to hide the details."
   ]
  },
  {
   "cell_type": "code",
   "execution_count": 22,
   "id": "a0ff6667-ec3f-44bd-ab3b-d1c9a4865c8c",
   "metadata": {},
   "outputs": [
    {
     "data": {
      "text/plain": [
       "'Maruti'"
      ]
     },
     "execution_count": 22,
     "metadata": {},
     "output_type": "execute_result"
    }
   ],
   "source": [
    "# Eg\n",
    "\n",
    "class car:\n",
    "    def __init__(self, year, model):\n",
    "#         Here  i am hiding only the year, using __\n",
    "        self.__year = year    \n",
    "        self.model = model\n",
    "c = car(2021, \"Maruti\")\n",
    "c.model"
   ]
  },
  {
   "cell_type": "code",
   "execution_count": 25,
   "id": "5dcb3b36-8854-466c-9b6b-f0003cec5086",
   "metadata": {},
   "outputs": [
    {
     "ename": "AttributeError",
     "evalue": "'car' object has no attribute 'year'",
     "output_type": "error",
     "traceback": [
      "\u001b[0;31m---------------------------------------------------------------------------\u001b[0m",
      "\u001b[0;31mAttributeError\u001b[0m                            Traceback (most recent call last)",
      "Cell \u001b[0;32mIn[25], line 1\u001b[0m\n\u001b[0;32m----> 1\u001b[0m \u001b[43mc\u001b[49m\u001b[38;5;241;43m.\u001b[39;49m\u001b[43myear\u001b[49m\n",
      "\u001b[0;31mAttributeError\u001b[0m: 'car' object has no attribute 'year'"
     ]
    }
   ],
   "source": [
    "c.year"
   ]
  },
  {
   "cell_type": "code",
   "execution_count": null,
   "id": "5abdafd0-7ca3-45e1-9423-927b95106c32",
   "metadata": {},
   "outputs": [],
   "source": []
  },
  {
   "cell_type": "code",
   "execution_count": 26,
   "id": "b1eeef8e-4f6f-4736-8947-79abbac55725",
   "metadata": {},
   "outputs": [],
   "source": [
    "# Q3 What is abc module in python, we it is used?"
   ]
  },
  {
   "cell_type": "code",
   "execution_count": 27,
   "id": "40a6e96e-304d-40b0-982b-ecccbf1d39fd",
   "metadata": {},
   "outputs": [],
   "source": [
    "# ABC (Abstract Basic Class) module contains the libraries to use to make abstarct methods and classes.\n",
    "#The ‘abc’ module in the Python library provides the infrastructure for defining custom abstract base classes.\n",
    "# As by default Python do not have the functionalities to make abstract class or methods. With the help of \n",
    "# ABC module we can use the abstaction in our programming."
   ]
  },
  {
   "cell_type": "code",
   "execution_count": null,
   "id": "e842a049-c866-4145-b6a7-59be53813625",
   "metadata": {},
   "outputs": [],
   "source": []
  },
  {
   "cell_type": "code",
   "execution_count": 28,
   "id": "b5cf2d58-7bbf-40d5-83b8-642343f952ee",
   "metadata": {},
   "outputs": [],
   "source": [
    "# Q4 How can we achieve data abstraction?"
   ]
  },
  {
   "cell_type": "code",
   "execution_count": 29,
   "id": "d7fafccb-08df-467f-9530-4870bb0f4208",
   "metadata": {},
   "outputs": [],
   "source": [
    "# ANS) We can achieve data abstraction by using abstract class and methods. We can either use the decorator,\n",
    "# abc.abstractmethods or we can inheritit class ABC to incorporate data anstraction."
   ]
  },
  {
   "cell_type": "code",
   "execution_count": null,
   "id": "a77ee556-5bcb-4fe5-b301-6b502a95a020",
   "metadata": {},
   "outputs": [],
   "source": []
  },
  {
   "cell_type": "code",
   "execution_count": 30,
   "id": "32c8ac6a-2cbe-4820-ab01-7aeb3ceb0544",
   "metadata": {},
   "outputs": [],
   "source": [
    "# Q5) Can we create instance of an abstract class?\n"
   ]
  },
  {
   "cell_type": "code",
   "execution_count": 31,
   "id": "ac1971b7-9cae-45f8-8214-e4d261d0f6dd",
   "metadata": {},
   "outputs": [],
   "source": [
    "# Ans) Abstract classes are not complete, as they may have some methods that are not defined. \n",
    "# So we cannot create an instance or object of an abstract class in Python."
   ]
  },
  {
   "cell_type": "code",
   "execution_count": null,
   "id": "aa3efa18-d3ff-408b-8c9e-0ee378500c14",
   "metadata": {},
   "outputs": [],
   "source": []
  }
 ],
 "metadata": {
  "kernelspec": {
   "display_name": "Python 3 (ipykernel)",
   "language": "python",
   "name": "python3"
  },
  "language_info": {
   "codemirror_mode": {
    "name": "ipython",
    "version": 3
   },
   "file_extension": ".py",
   "mimetype": "text/x-python",
   "name": "python",
   "nbconvert_exporter": "python",
   "pygments_lexer": "ipython3",
   "version": "3.10.8"
  }
 },
 "nbformat": 4,
 "nbformat_minor": 5
}
