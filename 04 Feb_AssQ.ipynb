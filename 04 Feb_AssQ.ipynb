{
 "cells": [
  {
   "cell_type": "code",
   "execution_count": 1,
   "id": "bb2ebf82-6887-4154-ab5d-2b8a93ad6fbd",
   "metadata": {},
   "outputs": [],
   "source": [
    "#Q1) Create a pytho program to sort given tuples based on integer value using a lambda function"
   ]
  },
  {
   "cell_type": "code",
   "execution_count": 8,
   "id": "617d0df5-6ee0-4c1d-9283-8f4b5920d466",
   "metadata": {},
   "outputs": [
    {
     "name": "stdout",
     "output_type": "stream",
     "text": [
      "[('Virat Kohli', 24936), ('Jack Kallis', 25534), ('Ricky Ponting', 27483), ('Sachin Tendulkar', 34357)]\n"
     ]
    }
   ],
   "source": [
    "# ANs\n",
    "\n",
    "l1 = [('Sachin Tendulkar', 34357),('Ricky Ponting', 27483),('Jack Kallis', 25534), ('Virat Kohli', 24936)]\n",
    "l1.sort(key = lambda a: a[1])\n",
    "print(l1)\n"
   ]
  },
  {
   "cell_type": "code",
   "execution_count": null,
   "id": "0422fcf9-92b5-4fce-b36c-b3f912842745",
   "metadata": {},
   "outputs": [],
   "source": []
  },
  {
   "cell_type": "code",
   "execution_count": 9,
   "id": "30715a34-bd89-43ff-aef7-7023d8383a73",
   "metadata": {},
   "outputs": [],
   "source": [
    "# Q2 Write a pytho program to find the sqaures of all the numbers in the given list of integers using lambda and map func"
   ]
  },
  {
   "cell_type": "code",
   "execution_count": 11,
   "id": "c15a23a8-e6c5-4ddf-b043-16b57d1b20d7",
   "metadata": {},
   "outputs": [
    {
     "name": "stdout",
     "output_type": "stream",
     "text": [
      "[1, 4, 9, 16, 25, 36, 49, 64, 81, 100]\n"
     ]
    }
   ],
   "source": [
    "l1 = [1,2,3,4,5,6,7,8,9,10]\n",
    "x = map (lambda a: a*a , l1)\n",
    "print(list(x))"
   ]
  },
  {
   "cell_type": "code",
   "execution_count": null,
   "id": "a7934800-e16a-4263-aa99-8955d601c917",
   "metadata": {},
   "outputs": [],
   "source": []
  },
  {
   "cell_type": "code",
   "execution_count": 12,
   "id": "7b5b3c47-8912-488a-84f4-772582a3c47f",
   "metadata": {},
   "outputs": [],
   "source": [
    "# Q3 Write a pytho program to convert the given list of integers into tuples of strings. Use map and Lambda function"
   ]
  },
  {
   "cell_type": "code",
   "execution_count": 34,
   "id": "1a8efe9b-5c14-4f58-9c4d-1233d63df962",
   "metadata": {},
   "outputs": [
    {
     "name": "stdout",
     "output_type": "stream",
     "text": [
      "('1', '2', '3', '4', '5', '6', '7', '8', '9', '10')\n"
     ]
    }
   ],
   "source": [
    "# 1st approach only map function is used\n",
    "\n",
    "l1 = [1,2,3,4,5,6,7,8,9,10]\n",
    "x = tuple(map(str,l1))\n",
    "print(x)"
   ]
  },
  {
   "cell_type": "code",
   "execution_count": 38,
   "id": "edeaa3e0-3e3d-4c9f-aa78-af664fa0508b",
   "metadata": {},
   "outputs": [
    {
     "name": "stdout",
     "output_type": "stream",
     "text": [
      "Old list is == [1, 2, 3, 4, 5, 6, 7, 8, 9, 10]\n",
      "New tuple of string is == ('1', '2', '3', '4', '5', '6', '7', '8', '9', '10')\n"
     ]
    }
   ],
   "source": [
    "# 2nd approach both map and lambda is used.\n",
    "\n",
    "l1 = [1,2,3,4,5,6,7,8,9,10]\n",
    "l2=[]\n",
    "x = tuple(map(lambda a: str(a), l1))\n",
    "print(\"Old list is ==\", l1)\n",
    "print(\"New tuple of string is ==\", x)\n"
   ]
  },
  {
   "cell_type": "code",
   "execution_count": null,
   "id": "5bdac24e-8bce-4d93-b257-519baf4285dd",
   "metadata": {},
   "outputs": [],
   "source": []
  },
  {
   "cell_type": "code",
   "execution_count": 39,
   "id": "7991080b-e60d-448f-9db1-b8bedbc8d32a",
   "metadata": {},
   "outputs": [],
   "source": [
    "# Q4 Write a python program using reduce function to compute the product of the list containig numbers 1 to 25."
   ]
  },
  {
   "cell_type": "code",
   "execution_count": 46,
   "id": "847a428d-210c-4399-8a90-491d91c3c192",
   "metadata": {},
   "outputs": [
    {
     "name": "stdout",
     "output_type": "stream",
     "text": [
      "15511210043330985984000000\n"
     ]
    }
   ],
   "source": [
    "from functools import reduce\n",
    "mylist= [1,2,3,4,5,6,7,8,9,10,11,12,13,14,15,16,17,18,19,20,21,22,23,24,25]\n",
    "prod = reduce((lambda x,y : x*y), mylist)\n",
    "print(prod)              "
   ]
  },
  {
   "cell_type": "code",
   "execution_count": null,
   "id": "180888c9-2847-4458-b44e-d08af06addc3",
   "metadata": {},
   "outputs": [],
   "source": []
  },
  {
   "cell_type": "code",
   "execution_count": 47,
   "id": "59e4890f-e203-44f1-bb4a-a04da8ec2a04",
   "metadata": {},
   "outputs": [],
   "source": [
    "# Q5 Write a python program to filter the numbers given in a list that are divisible by 2 and 3 using the filter function"
   ]
  },
  {
   "cell_type": "code",
   "execution_count": 51,
   "id": "dc9813fe-d3dd-4e13-a491-3b4c1c448fc4",
   "metadata": {},
   "outputs": [
    {
     "name": "stdout",
     "output_type": "stream",
     "text": [
      "[6, 12, 18, 24]\n"
     ]
    }
   ],
   "source": [
    "# Ans\n",
    "\n",
    "mylist= [1,2,3,4,5,6,7,8,9,10,11,12,13,14,15,16,17,18,19,20,21,22,23,24,25]\n",
    "res = filter ( lambda a : a%2 == 0 and a%3==0, mylist)\n",
    "print(list(res))"
   ]
  },
  {
   "cell_type": "code",
   "execution_count": null,
   "id": "39d2d8b5-537f-4bc7-a542-4b9b99081aee",
   "metadata": {},
   "outputs": [],
   "source": []
  },
  {
   "cell_type": "code",
   "execution_count": null,
   "id": "9601df1a-6fb0-4bda-aaa8-496787a8ac7b",
   "metadata": {},
   "outputs": [],
   "source": []
  },
  {
   "cell_type": "code",
   "execution_count": 52,
   "id": "5f689bf6-fc47-46a1-a7ee-bb27c69de8b8",
   "metadata": {},
   "outputs": [],
   "source": [
    "# Q6 Write a python program to find palindromes in the given list of strings using lambda and filter functions"
   ]
  },
  {
   "cell_type": "code",
   "execution_count": 55,
   "id": "2688a4dc-c4dd-425b-80b0-9de3af705340",
   "metadata": {},
   "outputs": [
    {
     "name": "stdout",
     "output_type": "stream",
     "text": [
      "['php', 'aba', 'radar', 'level']\n"
     ]
    }
   ],
   "source": [
    "mylist =['python','php', 'aba', 'radar', 'level']\n",
    "res = filter ( lambda a : a==a[::-1], mylist)\n",
    "print(list(res))"
   ]
  },
  {
   "cell_type": "code",
   "execution_count": null,
   "id": "de604b4b-3601-4348-9235-7d02b659beb3",
   "metadata": {},
   "outputs": [],
   "source": []
  }
 ],
 "metadata": {
  "kernelspec": {
   "display_name": "Python 3 (ipykernel)",
   "language": "python",
   "name": "python3"
  },
  "language_info": {
   "codemirror_mode": {
    "name": "ipython",
    "version": 3
   },
   "file_extension": ".py",
   "mimetype": "text/x-python",
   "name": "python",
   "nbconvert_exporter": "python",
   "pygments_lexer": "ipython3",
   "version": "3.10.8"
  }
 },
 "nbformat": 4,
 "nbformat_minor": 5
}
