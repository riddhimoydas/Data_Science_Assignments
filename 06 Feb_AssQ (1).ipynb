{
 "cells": [
  {
   "cell_type": "code",
   "execution_count": null,
   "id": "3c34ca44-59ec-4bb4-a5de-a9b074a2583f",
   "metadata": {},
   "outputs": [],
   "source": [
    "# Q1 Create a function which will take list as an parameter and return the product of all the numbers after creating\n",
    "# a flat list"
   ]
  },
  {
   "cell_type": "code",
   "execution_count": 6,
   "id": "d30f93d3-75a6-42d8-a822-02e1763bfc7f",
   "metadata": {},
   "outputs": [
    {
     "name": "stdout",
     "output_type": "stream",
     "text": [
      "The flat list is \n",
      " [1, 2, 3, 4, 44, 55, 66, True, False, 34, 56, 78, 89, 34, 1, 2, 3, 1, 34, 'key2', 55, 67, 78, 89, 4, 45, 22, 61, 34, 56, 'data science', 'Machine Learning'] \n",
      "\n",
      "Product of all the elements is  4134711838987085478833841242112000\n"
     ]
    }
   ],
   "source": [
    "# NOT USING FUNCTION\n",
    "\n",
    "list1= [1,2,3,4,[44,55,66,True],False,(34,56,78,89,34), {1,2,3,3,2,1}, {1:34, \"key2\":[55,67,78,89], 4:(45,22,61,34)},[56,'data science'], 'Machine Learning']\n",
    "\n",
    "flat=[]\n",
    "for element in list1:\n",
    "    \n",
    "    if isinstance(element, list):\n",
    "        flat.extend(element)\n",
    "    elif isinstance(element, tuple):\n",
    "        flat.extend(element)\n",
    "    elif isinstance(element, set):\n",
    "        flat.extend(element)\n",
    "    elif isinstance(element, dict):\n",
    "        for j in element.items():\n",
    "            # print (j)\n",
    "            for k in j:\n",
    "                # print(k)\n",
    "                # print(j)\n",
    "                if isinstance(k, list):\n",
    "                    flat.extend(k)\n",
    "                elif isinstance (k, tuple):\n",
    "                    flat.extend(k)\n",
    "                else:\n",
    "                    flat.append(k)\n",
    "            # if isinstance(j, list):\n",
    "            #     flat.extend(j)\n",
    "            # elif isinstance(j, tuple):\n",
    "            #     flat.extend(j)\n",
    "            # else:\n",
    "            #     flat.append(j)\n",
    "                \n",
    "            \n",
    "        # flat.extend(element.values())\n",
    "    else:\n",
    "        flat.append(element)\n",
    "        \n",
    "print('The flat list is \\n', flat ,'\\n')   \n",
    "\n",
    "mul = 1\n",
    "for i in flat:\n",
    "    if type(i) == int:\n",
    "        mul=mul*i\n",
    "        # print(mul)\n",
    "print('Product of all the elements is ', mul)"
   ]
  },
  {
   "cell_type": "code",
   "execution_count": 4,
   "id": "2aee5d97-9a0b-4097-9b36-e9b63d45c0da",
   "metadata": {},
   "outputs": [
    {
     "name": "stdout",
     "output_type": "stream",
     "text": [
      "The flat list is \n",
      " [1, 2, 3, 4, 44, 55, 66, True, False, 34, 56, 78, 89, 34, 1, 2, 3, 1, 34, 'key2', 55, 67, 78, 89, 4, 45, 22, 61, 34, 56, 'data science', 'Machine Learning'] \n",
      "\n",
      "and the product is 4134711838987085478833841242112000\n"
     ]
    }
   ],
   "source": [
    "# Using Function and using isinstance in the multiplication part\n",
    "\n",
    "\n",
    "def flatlist(list1):\n",
    "    flat=[]\n",
    "    for element in list1:\n",
    "    \n",
    "        if isinstance(element, list):\n",
    "            flat.extend(element)\n",
    "        elif isinstance(element, tuple):\n",
    "            flat.extend(element)\n",
    "        elif isinstance(element, set):\n",
    "            flat.extend(element)\n",
    "        elif isinstance(element, dict):\n",
    "            for j in element.items():\n",
    "            # print (j)\n",
    "                for k in j:\n",
    "                # print(k)\n",
    "                # print(j)\n",
    "                    if isinstance(k, list):\n",
    "                        flat.extend(k)\n",
    "                    elif isinstance (k, tuple):\n",
    "                        flat.extend(k)\n",
    "                    else:\n",
    "                        flat.append(k)\n",
    "            \n",
    "        else:\n",
    "            flat.append(element)\n",
    "        \n",
    "    # print('The flat list is \\n', flat ,'\\n')\n",
    "    # return flat\n",
    "\n",
    "    mul = 1\n",
    "    for i in flat:\n",
    "        if isinstance(i, int) and not isinstance(i,bool):\n",
    "            mul=mul*i\n",
    "            \n",
    "    return(flat,mul)\n",
    "    # print('Product of all the elements is ', mul)\n",
    "    \n",
    "    \n",
    "    \n",
    "list1= [1,2,3,4,[44,55,66,True],False,(34,56,78,89,34), {1,2,3,3,2,1}, {1:34, \"key2\":[55,67,78,89], 4:(45,22,61,34)},[56,'data science'], 'Machine Learning']\n",
    "a, b = flatlist(list1)\n",
    "print(\"The flat list is \\n\", a, \"\\n\\nand the product is\", b)"
   ]
  },
  {
   "cell_type": "code",
   "execution_count": null,
   "id": "69d5f59a-5772-4ca0-bab0-8dd02092cf76",
   "metadata": {},
   "outputs": [],
   "source": []
  },
  {
   "cell_type": "code",
   "execution_count": 11,
   "id": "3db7da3b-afb7-4a1d-a339-4c23f1f4777b",
   "metadata": {},
   "outputs": [],
   "source": [
    "# Q2 Write a program for encrypting a message sent to you by your friend. The logic of encryption \n",
    "# shoud be such that, for a the output should be z. For b, the output should be y, for c the output should be\n",
    "# x, respectively. For white spaces should be replaced by $ sign.Punctions mark should be unchanged.\n"
   ]
  },
  {
   "cell_type": "code",
   "execution_count": 8,
   "id": "93c4ffe0-bd09-4cd0-843b-478ffdf592a8",
   "metadata": {},
   "outputs": [
    {
     "name": "stdout",
     "output_type": "stream",
     "text": [
      "r $ d z m g $ g l $ y v x l n v $ z $ w z g z $ h x r v m g r h g .\n"
     ]
    }
   ],
   "source": [
    "# Ans\n",
    "# 1st Method:-\n",
    "\n",
    "\n",
    "stri = \"I want to become a Data Scientist.\"\n",
    "str2 = stri.lower ()\n",
    "msg = []\n",
    "for i in range(len(str2)):\n",
    "\n",
    "    if str2[i] in [\"a\",\"b\",\"c\",\"d\",\"e\",\"f\",\"g\",\"h\",\"i\",\"j\",\"k\",\"l\",\"m\",\"n\",\"o\",\"p\",\"q\",\"r\",\"s\",\"t\",\"u\",\"v\",\"w\",\"x\",\"y\",\"z\"]:\n",
    "        ch = chr(ord(\"z\") - ord(str2[i]) + ord('a'))\n",
    "        msg.append(ch)\n",
    "\n",
    "    elif str2[i] == \" \":\n",
    "        msg.append(\"$\")\n",
    "\n",
    "    else:\n",
    "        msg.append(str2[i])\n",
    "\n",
    "print(\" \".join(msg))"
   ]
  },
  {
   "cell_type": "code",
   "execution_count": 9,
   "id": "3e83a4e3-b166-4597-ae69-1451c174f113",
   "metadata": {},
   "outputs": [
    {
     "name": "stdout",
     "output_type": "stream",
     "text": [
      "The initial string was -->\t I want to become a Data Scientist.\n",
      "\n",
      "The encoded string is -->\t r$dzmg$gl$yvxlnv$z$wzgz$hxrvmgrhg.\n"
     ]
    }
   ],
   "source": [
    "# Second Method:-\n",
    "\n",
    "alp='abcdefghijklmnopqrstuvwxyz'\n",
    "str10 = \"I want to become a Data Scientist.\"\n",
    "str1 = str10.lower()\n",
    "# for loop to add $ in between the spaces.\n",
    "for i in str1: \n",
    "    if i == \" \":\n",
    "        str1=str1.replace(i,'$')\n",
    "# print(str1)\n",
    "str2 = str.maketrans(alp, alp[::-1])\n",
    "val = str1.translate(str2)\n",
    "print(\"The initial string was -->\\t\", str10)\n",
    "print(\"\\nThe encoded string is -->\\t\",val)\n"
   ]
  },
  {
   "cell_type": "code",
   "execution_count": null,
   "id": "dbbd9d2e-1368-496b-a69a-15d291d1efbc",
   "metadata": {},
   "outputs": [],
   "source": []
  }
 ],
 "metadata": {
  "kernelspec": {
   "display_name": "Python 3 (ipykernel)",
   "language": "python",
   "name": "python3"
  },
  "language_info": {
   "codemirror_mode": {
    "name": "ipython",
    "version": 3
   },
   "file_extension": ".py",
   "mimetype": "text/x-python",
   "name": "python",
   "nbconvert_exporter": "python",
   "pygments_lexer": "ipython3",
   "version": "3.10.8"
  }
 },
 "nbformat": 4,
 "nbformat_minor": 5
}
