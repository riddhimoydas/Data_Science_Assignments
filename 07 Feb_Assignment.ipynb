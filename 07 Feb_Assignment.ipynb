{
 "cells": [
  {
   "cell_type": "code",
   "execution_count": 1,
   "id": "28540b30-3cb6-4565-80ba-9dca858fcc42",
   "metadata": {},
   "outputs": [],
   "source": [
    "# Q1. You are writing code for a company. The requirement of the company is that you create a python\n",
    "# function that will check whether the password entered by the user is correct or not. The function should\n",
    "# take the password as input and return the string “Valid Password” if the entered password follows the\n",
    "# below-given password guidelines else it should return “Invalid Password”.\n",
    "\n",
    "# Note: 1. The Password should contain at least two uppercase letters and at least two lowercase letters.\n",
    "# 2. The Password should contain at least a number and three special characters.\n",
    "# 3. The length of the password should be 10 characters long."
   ]
  },
  {
   "cell_type": "code",
   "execution_count": 4,
   "id": "d52a1a49-2125-4a7b-97ce-840085041d63",
   "metadata": {},
   "outputs": [
    {
     "name": "stdout",
     "output_type": "stream",
     "text": [
      "\n",
      "Password is Valid\n",
      "\n"
     ]
    }
   ],
   "source": [
    "# Ans\n",
    "\n",
    "l, u, p, d = 0, 0, 0, 0\n",
    "s = \"abcdegfghi1@$@OO\"\n",
    "if (len(s) >= 10):\n",
    "    for i in s:\n",
    "        if (i.islower()):\n",
    "            l+=1\n",
    "        elif (i.isupper()):\n",
    "            u+=1\n",
    "        elif (i.isdigit()):\n",
    "            d+=1\n",
    "        elif (i=='@' or i == '$' or i == '_' or i == '&' or i == '#'):\n",
    "            p+=1\n",
    "\n",
    "if (l>=2 and u>=2 and d>=1, p>=3):\n",
    "    print(\"\\nPassword is Valid\\n\")\n",
    "else:\n",
    "    print(\"\\nPassword is Invalid\\n\") "
   ]
  },
  {
   "cell_type": "code",
   "execution_count": null,
   "id": "2d624e2a-76e3-4f62-af11-a5740b608846",
   "metadata": {},
   "outputs": [],
   "source": []
  },
  {
   "cell_type": "code",
   "execution_count": 5,
   "id": "a8834000-60bd-4021-81b8-8beaad755d39",
   "metadata": {},
   "outputs": [],
   "source": [
    "# Q2. Solve the below-given questions using at least one of the following:\n",
    "# 1. Lambda functioJ\n",
    "# 2. Filter functioJ\n",
    "# 3. Zap functioJ\n",
    "# 4. List ComprehensioI\n",
    "\n",
    "# B Check if the string starts with a particular letter.\n",
    "# B Check if the string is numeric.\n",
    "# B Sort a list of tuples having fruit names and their quantity. [(\"mango\",99),(\"orange\",80), (\"grapes\", 1000)]\n",
    "# B Find the squares of numbers from 1 to 10.\n",
    "# B Find the cube root of numbers from 1 to 10.\n",
    "# B Check if a given number is even.\n",
    "# B Filter odd numbers from the given list.\n",
    "# [1,2,3,4,5,6,7,8,9,10]\n",
    "# B Sort a list of integers into positive and negative integers lists.\n",
    "# [1,2,3,4,5,6,-1,-2,-3,-4,-5,0]"
   ]
  },
  {
   "cell_type": "code",
   "execution_count": 6,
   "id": "6f272131-e6b7-45a9-acee-887fd40eb75c",
   "metadata": {},
   "outputs": [
    {
     "name": "stdout",
     "output_type": "stream",
     "text": [
      "YES\n"
     ]
    }
   ],
   "source": [
    "# Check if the string starts with a particular letter\n",
    "\n",
    "# method one\n",
    "st1 = 'Word'\n",
    "alp = 'W'\n",
    "st2 = bool([i for i in st1 if st1[0]==alp])\n",
    "if st2 is False:\n",
    "    print(\"NO\")\n",
    "else:\n",
    "    print(\"YES\")"
   ]
  },
  {
   "cell_type": "code",
   "execution_count": 7,
   "id": "69af21f2-75f9-4f9f-bf51-f6c152039f6a",
   "metadata": {},
   "outputs": [
    {
     "name": "stdout",
     "output_type": "stream",
     "text": [
      "Yes\n"
     ]
    }
   ],
   "source": [
    "# method 2\n",
    "\n",
    "st1 = 'Word'\n",
    "# str1 = st1.lower()\n",
    "alp = 'W'\n",
    "# for i in range(len(st1)):\n",
    "if st1[0] == alp:\n",
    "    print (\"Yes\")\n",
    "else:\n",
    "    print(\"No\")"
   ]
  },
  {
   "cell_type": "code",
   "execution_count": 8,
   "id": "cf521bb7-39a0-4612-a12c-84381a7e04da",
   "metadata": {},
   "outputs": [
    {
     "data": {
      "text/plain": [
       "'NO, the word \"Word point\" does not starts with \"k\"'"
      ]
     },
     "execution_count": 8,
     "metadata": {},
     "output_type": "execute_result"
    }
   ],
   "source": [
    "# Method 3 using lambda function\n",
    "\n",
    "st1 = 'Word point'\n",
    "alp = 'k'\n",
    "st2 = lambda st1, alp: f'Yes, the word \"{st1}\" starts with \"{alp}\"' if st1[0] == alp else f'NO, the word \"{st1}\" does not starts with \"{alp}\"'\n",
    "st2(st1,alp)"
   ]
  },
  {
   "cell_type": "code",
   "execution_count": null,
   "id": "dc452f9e-93ae-462a-87d2-6c4d01e7af59",
   "metadata": {},
   "outputs": [],
   "source": []
  },
  {
   "cell_type": "code",
   "execution_count": 9,
   "id": "ae16d378-b28d-4dc4-9b34-1c73f4ebff32",
   "metadata": {},
   "outputs": [
    {
     "data": {
      "text/plain": [
       "'YES, 1515 is a numeric string'"
      ]
     },
     "execution_count": 9,
     "metadata": {},
     "output_type": "execute_result"
    }
   ],
   "source": [
    "# Check if the string is numeric\n",
    "\n",
    "s1 = '1515'\n",
    "s2 = lambda s1: f\"YES, {s1} is a numeric string\" if s1.isnumeric() else f\"NO, {s1} is not a numeric string\"\n",
    "s2(s1)"
   ]
  },
  {
   "cell_type": "code",
   "execution_count": null,
   "id": "a3f1ef6b-ed84-4d33-863d-d4ff74700559",
   "metadata": {},
   "outputs": [],
   "source": []
  },
  {
   "cell_type": "code",
   "execution_count": 13,
   "id": "c338df26-9686-4786-a9e4-c33774bdf4dc",
   "metadata": {},
   "outputs": [
    {
     "name": "stdout",
     "output_type": "stream",
     "text": [
      "Sorted in Descending order\n",
      "\n",
      "[('Grapes', 1000), ('Mango', 99), ('Orange', 80)]\n",
      "\n",
      "Sorted in Ascending order\n",
      "\n",
      "[('Orange', 80), ('Mango', 99), ('Grapes', 1000)]\n"
     ]
    }
   ],
   "source": [
    "# Sort a list of tuples having fruit names and their quantity. [(\"mango\",99),(\"orange\",80), (\"grapes\", 1000)]\n",
    "\n",
    "fruits = [(\"Mango\", 99), (\"Orange\", 80), (\"Grapes\", 1000)]\n",
    "fruits.sort(reverse=True, key = lambda a: a[1])\n",
    "print(\"Sorted in Descending order\\n\")\n",
    "print(fruits)\n",
    "fruits.sort(reverse=False, key = lambda a: a[1])\n",
    "print(\"\\nSorted in Ascending order\\n\")\n",
    "print(fruits)"
   ]
  },
  {
   "cell_type": "code",
   "execution_count": null,
   "id": "694450e2-34fa-42ed-839d-fc2e6365e5c3",
   "metadata": {},
   "outputs": [],
   "source": []
  },
  {
   "cell_type": "code",
   "execution_count": 15,
   "id": "9b3ebc39-1876-4818-845b-5be3dafac079",
   "metadata": {},
   "outputs": [
    {
     "name": "stdout",
     "output_type": "stream",
     "text": [
      "The list is num\n",
      " [1, 2, 3, 4, 5, 6, 7, 8, 9, 10]\n",
      "\n",
      " The squared number are --->\t [1, 4, 9, 16, 25, 36, 49, 64, 81, 100]\n"
     ]
    }
   ],
   "source": [
    "# Find the squares of numbers from 1 to 10.\n",
    "\n",
    "num = list(range(1,11))\n",
    "print(\"The list is num\\n\", num)\n",
    "res = map(lambda a : a*a, num)\n",
    "print('\\n The squared number are --->\\t', list(res))"
   ]
  },
  {
   "cell_type": "code",
   "execution_count": null,
   "id": "a73010ed-442a-4113-a6e5-9077e0e1f884",
   "metadata": {},
   "outputs": [],
   "source": []
  },
  {
   "cell_type": "code",
   "execution_count": 16,
   "id": "a1a2f116-d64f-4b68-9673-2a4ea1db0355",
   "metadata": {},
   "outputs": [
    {
     "name": "stdout",
     "output_type": "stream",
     "text": [
      "The list is num\n",
      " [1, 2, 3, 4, 5, 6, 7, 8, 9, 10]\n",
      "\n",
      " The cubed number are --->\t [1, 8, 27, 64, 125, 216, 343, 512, 729, 1000]\n"
     ]
    }
   ],
   "source": [
    "# Find the cube root of numbers from 1 to 10\n",
    "\n",
    "num = list(range(1,11))\n",
    "print(\"The list is num\\n\", num)\n",
    "res = map(lambda a : a*a*a, num)\n",
    "print('\\n The cubed number are --->\\t', list(res))"
   ]
  },
  {
   "cell_type": "code",
   "execution_count": null,
   "id": "fd62bda5-e07a-41cb-b215-4e7a94c77fdc",
   "metadata": {},
   "outputs": [],
   "source": []
  },
  {
   "cell_type": "code",
   "execution_count": 17,
   "id": "7ee153f1-fb99-424e-a164-dfedcfada9ec",
   "metadata": {},
   "outputs": [
    {
     "data": {
      "text/plain": [
       "'18 Even Number'"
      ]
     },
     "execution_count": 17,
     "metadata": {},
     "output_type": "execute_result"
    }
   ],
   "source": [
    "# Check if a given number is even\n",
    "\n",
    "num = 18\n",
    "res = lambda num: f'{num} Even Number' if num%2==0 else f' {num} Odd number'\n",
    "res(num)"
   ]
  },
  {
   "cell_type": "code",
   "execution_count": null,
   "id": "c1e450b2-a6fd-414a-862c-f00f28bf733f",
   "metadata": {},
   "outputs": [],
   "source": []
  },
  {
   "cell_type": "code",
   "execution_count": 18,
   "id": "041670a1-3b19-4aef-85f7-6419780a34aa",
   "metadata": {},
   "outputs": [
    {
     "name": "stdout",
     "output_type": "stream",
     "text": [
      "The odd numbers are\t [1, 3, 5, 7, 9]\n"
     ]
    }
   ],
   "source": [
    "# Filter odd numbers from the given list.  [1,2,3,4,5,6,7,8,9,10]\n",
    "\n",
    "a = [1,2,3,4,5,6,7,8,9,10]\n",
    "res = filter(lambda z : z%2!=0, a)\n",
    "print('The odd numbers are\\t',list(res))"
   ]
  },
  {
   "cell_type": "code",
   "execution_count": null,
   "id": "44334d03-f62b-4309-a0f5-9a7794e2741d",
   "metadata": {},
   "outputs": [],
   "source": []
  },
  {
   "cell_type": "code",
   "execution_count": 19,
   "id": "391b289f-44f7-4bfd-9f2c-50ef116f907c",
   "metadata": {},
   "outputs": [
    {
     "name": "stdout",
     "output_type": "stream",
     "text": [
      "The positive number list is   [1, 2, 3, 4, 5, 6]\n",
      "The negative number list is   [-1, -2, -3, -4, -5]\n"
     ]
    }
   ],
   "source": [
    "# Sort a list of integers into positive and negative integers lists. [1,2,3,4,5,6,-1,-2,-3,-4,-5,0]\n",
    "\n",
    "l1 = [1,2,3,4,5,6,-1,-2,-3,-4,-5]\n",
    "lp = filter(lambda z : z>=0, l1)\n",
    "ln = filter(lambda z : z<0, l1)\n",
    "print(\"The positive number list is  \", list(lp))\n",
    "print(\"The negative number list is  \", list(ln))"
   ]
  },
  {
   "cell_type": "code",
   "execution_count": null,
   "id": "437bbe20-8d52-458d-83ee-711031a6d96d",
   "metadata": {},
   "outputs": [],
   "source": []
  }
 ],
 "metadata": {
  "kernelspec": {
   "display_name": "Python 3 (ipykernel)",
   "language": "python",
   "name": "python3"
  },
  "language_info": {
   "codemirror_mode": {
    "name": "ipython",
    "version": 3
   },
   "file_extension": ".py",
   "mimetype": "text/x-python",
   "name": "python",
   "nbconvert_exporter": "python",
   "pygments_lexer": "ipython3",
   "version": "3.10.8"
  }
 },
 "nbformat": 4,
 "nbformat_minor": 5
}
