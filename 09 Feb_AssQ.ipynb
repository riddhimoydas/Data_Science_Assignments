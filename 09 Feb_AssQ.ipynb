{
 "cells": [
  {
   "cell_type": "code",
   "execution_count": null,
   "id": "9cfaa61e-7851-4dbb-8f52-6714450f92bd",
   "metadata": {},
   "outputs": [],
   "source": [
    "# Date:- 04-09-2023"
   ]
  },
  {
   "cell_type": "code",
   "execution_count": 1,
   "id": "fb4d2554-babe-4fa5-96ef-83468cfb4888",
   "metadata": {},
   "outputs": [],
   "source": [
    "# Q1, Create a vehicle class with an init method having instance variables as name_of_vehicle, max_speed\n",
    "# and average_of_vehicle."
   ]
  },
  {
   "cell_type": "code",
   "execution_count": 15,
   "id": "340edd9b-00d7-4d51-bc56-cd8ee32e421d",
   "metadata": {},
   "outputs": [
    {
     "name": "stdout",
     "output_type": "stream",
     "text": [
      "Maruti\n",
      "200\n",
      "10\n"
     ]
    }
   ],
   "source": [
    "class vehicle:\n",
    "    def details(self, name_of_vehicle, max_speed, average_of_vehicle):\n",
    "        self.name_of_vehicle = name_of_vehicle\n",
    "        self.max_speed = max_speed\n",
    "        self.average_of_vehicle = average_of_vehicle\n",
    "        \n",
    "    def return_details(self):\n",
    "        return self.name_of_vehicle, self.max_speed, self.average_of_vehicle\n",
    "    \n",
    "car1 = vehicle()\n",
    "car1.details('Maruti', 200, 10)\n",
    "print(car1.name_of_vehicle)\n",
    "print(car1.max_speed)\n",
    "print(car1.average_of_vehicle)"
   ]
  },
  {
   "cell_type": "code",
   "execution_count": 4,
   "id": "f5ba3a27-2bf5-4173-9a99-5021a954c7f2",
   "metadata": {},
   "outputs": [],
   "source": [
    "# Q2 Create a child class car from the vehicle class created in Que 1, which will inherit the vehicle class.\n",
    "# Create a method named seating_capacity which takes capacity as an argument and returns the name of\n",
    "# the vehicle and its seating capacity."
   ]
  },
  {
   "cell_type": "code",
   "execution_count": 19,
   "id": "0121d726-28ea-49c3-8394-18ad88074cb0",
   "metadata": {},
   "outputs": [
    {
     "name": "stdout",
     "output_type": "stream",
     "text": [
      "Maruti \n",
      " Seating Capacity is 5\n"
     ]
    }
   ],
   "source": [
    "class vehicle:\n",
    "    def details(self, name_of_vehicle, max_speed, average_of_vehicle):\n",
    "        self.name_of_vehicle = name_of_vehicle\n",
    "        self.max_speed = max_speed\n",
    "        self.average_of_vehicle = average_of_vehicle\n",
    "        \n",
    "    def return_details(self):\n",
    "        return self.name_of_vehicle, self.max_speed, self.average_of_vehicle\n",
    "    \n",
    "\n",
    "class vehicle_seating(vehicle): \n",
    "    def seating_capacity(self,capacity):\n",
    "        self.capacity = capacity\n",
    "    def return_det(self):\n",
    "        return self.capacity\n",
    "    \n",
    "car2 = vehicle_seating()\n",
    "# Method of Parent class\n",
    "car2.details(\"Maruti\", 200, 20)\n",
    "# Method of child class\n",
    "car2.seating_capacity(5)\n",
    "\n",
    "print(car2.name_of_vehicle,\"\\n Seating Capacity is\", car2.capacity)    "
   ]
  },
  {
   "cell_type": "code",
   "execution_count": null,
   "id": "8ea20067-bcc5-4172-ac38-430efea75b64",
   "metadata": {},
   "outputs": [],
   "source": []
  },
  {
   "cell_type": "code",
   "execution_count": 20,
   "id": "1cc5052d-80fb-45ff-af49-47973d3f5fbb",
   "metadata": {},
   "outputs": [],
   "source": [
    "# Q3 What is multiple inheritance? Write a python code to demonstrate multiple inheritance."
   ]
  },
  {
   "cell_type": "code",
   "execution_count": 21,
   "id": "253f41ee-1935-491c-a783-d1934d0a02e6",
   "metadata": {},
   "outputs": [],
   "source": [
    "#ANS-->   When a class is derived from oe or more  parent classes, it is known as the parent class"
   ]
  },
  {
   "cell_type": "code",
   "execution_count": 27,
   "id": "52aa11c0-186c-44a3-b1f1-ebe672fa4290",
   "metadata": {},
   "outputs": [
    {
     "name": "stdout",
     "output_type": "stream",
     "text": [
      " I am from CLASS 1\n",
      " I am from CLASS 2\n",
      " I am from CLASS 3\n"
     ]
    }
   ],
   "source": [
    "class class1:\n",
    "    def test1(self):\n",
    "        return \" I am from CLASS 1\"\n",
    "    \n",
    "class class2:\n",
    "    def test2(self):\n",
    "        return \" I am from CLASS 2\"\n",
    "    \n",
    "class class3(class1, class2):\n",
    "    def test3(self):\n",
    "        return \" I am from CLASS 3\"\n",
    "    \n",
    "driver = class3() \n",
    "# printing method of CLASS 1\n",
    "print(driver.test1())\n",
    "\n",
    "# printing method of CLASS 2\n",
    "print(driver.test2())\n",
    "\n",
    "# printing method of CLASS 2\n",
    "print(driver.test3())"
   ]
  },
  {
   "cell_type": "code",
   "execution_count": null,
   "id": "48b1c83f-d77b-4b53-904b-6e1b0877dc83",
   "metadata": {},
   "outputs": [],
   "source": []
  },
  {
   "cell_type": "code",
   "execution_count": 28,
   "id": "f0dcc2c6-3dca-458c-9200-91677868b9b9",
   "metadata": {},
   "outputs": [],
   "source": [
    "# Q4. What are getter and setter in python? Create a class and create a getter and a setter method in this\n",
    "# class."
   ]
  },
  {
   "cell_type": "code",
   "execution_count": 31,
   "id": "be488ab0-9e06-4cd5-8445-124ffff06d29",
   "metadata": {},
   "outputs": [
    {
     "name": "stdout",
     "output_type": "stream",
     "text": [
      "10\n",
      "45\n"
     ]
    }
   ],
   "source": [
    "# ANS \n",
    "\n",
    "# Getters: These are the METHODS used in Object-Oriented Programming (OOPS) which helps to access the private attributes from a class.\n",
    "# Setters: These are the METHODS used in OOPS feature which helps to set the value to private attributes in a class\n",
    "\n",
    "class SampleClass:\n",
    "\n",
    "    def __init__(self, a):\n",
    "        ## private varibale or property in Python\n",
    "        self.__a = a\n",
    "\n",
    "    ## getter method to get the properties using an object\n",
    "    def get_a(self):\n",
    "        return self.__a\n",
    "\n",
    "    ## setter method to change the value 'a' using an object\n",
    "    def set_a(self, a):\n",
    "        self.__a = a\n",
    "        \n",
    "## creating an object\n",
    "obj = SampleClass(10)\n",
    "\n",
    "## getting the value of 'a' using get_a() method\n",
    "print(obj.get_a())\n",
    "\n",
    "## setting a new value to the 'a' using set_a() method\n",
    "obj.set_a(45)\n",
    "\n",
    "print(obj.get_a())\n",
    "       "
   ]
  },
  {
   "cell_type": "code",
   "execution_count": null,
   "id": "1e7571f8-894d-4920-b8e7-5b689fbb6de3",
   "metadata": {},
   "outputs": [],
   "source": []
  },
  {
   "cell_type": "code",
   "execution_count": 32,
   "id": "5ac1c0e2-4a0f-4c3f-8dcd-b36b49dd630e",
   "metadata": {},
   "outputs": [],
   "source": [
    "# Q5.What is method overriding in python? Write a python code to demonstrate method overriding."
   ]
  },
  {
   "cell_type": "code",
   "execution_count": 35,
   "id": "088ba0a3-d7a9-4230-a7fa-59cd38ad52f3",
   "metadata": {},
   "outputs": [
    {
     "name": "stdout",
     "output_type": "stream",
     "text": [
      "I am Inside Parent\n",
      "I am Inside Child\n"
     ]
    }
   ],
   "source": [
    "# Method overriding is an ability of any object-oriented programming language that allows a subclass or child class to\n",
    "# provide a specific implementation of a method that is already provided by one of its super-classes or parent classes. \n",
    "# When a method in a subclass has the same name, same parameters or signature and same return type(or sub-type)\n",
    "# as a method in its super-class, then the method in the subclass is said to override the method in the super-class.\n",
    "\n",
    "\n",
    "\n",
    "class Parent():\n",
    "\t\n",
    "\t\n",
    "\tdef __init__(self):\n",
    "\t\tself.value = \"I am Inside Parent\"\n",
    "\t\t\n",
    "\n",
    "\tdef show(self):\n",
    "\t\tprint(self.value)\n",
    "\t\t\n",
    "\n",
    "class Child(Parent):\n",
    "\t\n",
    "\t\n",
    "\tdef __init__(self):\n",
    "\t\tself.value = \"I am Inside Child\"\n",
    "\t\t\n",
    "\t\n",
    "\tdef show(self):\n",
    "\t\tprint(self.value)\n",
    "\t\t\n",
    "\t\t\n",
    "\n",
    "obj1 = Parent()\n",
    "obj2 = Child()\n",
    "\n",
    "obj1.show()\n",
    "\n",
    "# Show will be over ridden by child class.\n",
    "obj2.show()\n"
   ]
  },
  {
   "cell_type": "code",
   "execution_count": null,
   "id": "3a50c1e7-aff7-4b5d-b21d-ca14f837947c",
   "metadata": {},
   "outputs": [],
   "source": []
  }
 ],
 "metadata": {
  "kernelspec": {
   "display_name": "Python 3 (ipykernel)",
   "language": "python",
   "name": "python3"
  },
  "language_info": {
   "codemirror_mode": {
    "name": "ipython",
    "version": 3
   },
   "file_extension": ".py",
   "mimetype": "text/x-python",
   "name": "python",
   "nbconvert_exporter": "python",
   "pygments_lexer": "ipython3",
   "version": "3.10.8"
  }
 },
 "nbformat": 4,
 "nbformat_minor": 5
}
